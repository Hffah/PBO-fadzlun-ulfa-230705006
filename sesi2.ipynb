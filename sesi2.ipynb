{
  "nbformat": 4,
  "nbformat_minor": 0,
  "metadata": {
    "colab": {
      "name": "sesi2.ipynb",
      "provenance": [],
      "include_colab_link": true
    },
    "kernelspec": {
      "name": "python3",
      "display_name": "Python 3"
    }
  },
  "cells": [
    {
      "cell_type": "markdown",
      "metadata": {
        "id": "view-in-github",
        "colab_type": "text"
      },
      "source": [
        "<a href=\"https://colab.research.google.com/github/Hffah/PBO-fadzlun-ulfa-230705006/blob/main/sesi2.ipynb\" target=\"_parent\"><img src=\"https://colab.research.google.com/assets/colab-badge.svg\" alt=\"Open In Colab\"/></a>"
      ]
    },
    {
      "cell_type": "markdown",
      "metadata": {
        "id": "Xkjri5kZjrHt"
      },
      "source": [
        "**Menentukan apakah suatu bilangan genap atau ganjil**"
      ]
    },
    {
      "cell_type": "code",
      "metadata": {
        "id": "mafJ01Ftjyfi",
        "colab": {
          "base_uri": "https://localhost:8080/"
        },
        "outputId": "b3875db6-a81c-4084-e28a-eaefe49668de"
      },
      "source": [
        "# Program untuk menentukan apakah sebuah bilangan yang diinput ganjil atau genap\n",
        "# Membaca bilangan yang dimasukkan user\n",
        "bil = int(input(\"Masukkan sebuah bilangan:\"))\n",
        "\n",
        "# Proses untuk menentukan bilangan tersebut ganjil atau genap\n",
        "# Menggunakan operator modulus\n",
        "if bil % 2 == 1:\n",
        "  print(bil, \"adalah bilangan ganjil\")\n",
        "else:\n",
        "  print(bil, \"adalah bilangan genap\")"
      ],
      "execution_count": 1,
      "outputs": [
        {
          "output_type": "stream",
          "name": "stdout",
          "text": [
            "Masukkan sebuah bilangan:6\n",
            "6 adalah bilangan genap\n"
          ]
        }
      ]
    },
    {
      "cell_type": "markdown",
      "metadata": {
        "id": "WBKnKMGNphsp"
      },
      "source": [
        "**Menentukan suatu huruf vokal atau konsonan**"
      ]
    },
    {
      "cell_type": "code",
      "metadata": {
        "id": "1FIOWP2RpqvK",
        "colab": {
          "base_uri": "https://localhost:8080/"
        },
        "outputId": "8fb08e90-dc91-4524-d276-ea19fbae3877"
      },
      "source": [
        "# Program untuk menentukan apakah huruf tersebut vokal atau konsonan\n",
        "# Dalam Ejaan Bahasa Inggris\n",
        "\n",
        "# Membaca huruf yang dimasukkan user\n",
        "hur= input(\"Masukkan sebuah huruf dari kumpulan abjad:\")\n",
        "\n",
        "#Proses menentukan huruf dan menampilkan hasilnya\n",
        "if hur ==\"a\" or hur == \"e\" or \\\n",
        "   hur ==\"i\" or hur == \"o\" or \\\n",
        "   hur ==\"u\":\n",
        "  print(\"Ini adalah vokal.\")\n",
        "elif hur ==\"y\":\n",
        "  print(\"Kadang vokal...kadang konsonan\")\n",
        "else:\n",
        "  print(\"Ini adalah konsonan.\")"
      ],
      "execution_count": 2,
      "outputs": [
        {
          "output_type": "stream",
          "name": "stdout",
          "text": [
            "Masukkan sebuah huruf dari kumpulan abjad:i\n",
            "Ini adalah vokal.\n"
          ]
        }
      ]
    },
    {
      "cell_type": "markdown",
      "metadata": {
        "id": "nDaOdiH5-yhD"
      },
      "source": [
        "**Program Menentukan nama Ukuran geometri berdasarkan sisinya**"
      ]
    },
    {
      "cell_type": "code",
      "metadata": {
        "id": "W8q0x8Bf_DeJ",
        "colab": {
          "base_uri": "https://localhost:8080/"
        },
        "outputId": "9edb2840-22c3-4ed6-fb4e-3980a33a69af"
      },
      "source": [
        "# Menampilkan nama ukuran geometri berdasarkan jumlah sisi yang diinput\n",
        "\n",
        "# Membaca jumlah sisi yang diinput oleh user\n",
        "sisi = int(input(\"Masukkan jumlah sisinya:\"))\n",
        "\n",
        "# Menampilkan nama ukuran geometri tersebut\n",
        "nama = \"\"\n",
        "if sisi == 3:\n",
        "  nama = \"triangle\"\n",
        "elif sisi == 4:\n",
        "  nama = \"quadrilateral\"\n",
        "elif sisi == 5:\n",
        "  nama = \"pentagon\"\n",
        "elif sisi == 6:\n",
        "  nama = \"hexagon\"\n",
        "elif sisi == 7:\n",
        "  nama = \"heptagon\"\n",
        "elif sisi == 8:\n",
        "  nama = \"ocatagon\"\n",
        "elif sisi == 9:\n",
        "  nama = \"nonagon\"\n",
        "elif sisi == 10:\n",
        "  nama = \"decagon\"\n",
        "\n",
        "# Menampilkan pesan kesalahan atau nama dari ruang geometri\n",
        "if nama == \"\":\n",
        "  print(\"Jumlah sisi yang diinput tidak ada dalam database\")\n",
        "else:\n",
        "  print(\"Ini adalah\", nama)\n",
        "\n"
      ],
      "execution_count": 3,
      "outputs": [
        {
          "output_type": "stream",
          "name": "stdout",
          "text": [
            "Masukkan jumlah sisinya:8\n",
            "Ini adalah ocatagon\n"
          ]
        }
      ]
    },
    {
      "cell_type": "markdown",
      "metadata": {
        "id": "q4C4a_d6BX2I"
      },
      "source": [
        "**Program menampilkan 4 musim berdasarkan bulan dan tanggal**"
      ]
    },
    {
      "cell_type": "code",
      "metadata": {
        "id": "JepRvwHdBgqQ",
        "colab": {
          "base_uri": "https://localhost:8080/",
          "height": 211
        },
        "outputId": "5f042184-b5be-4c19-91d7-ead382d08c56"
      },
      "source": [
        "# Menentukan dan menampilkan nama musim berdasarkan tanggal\n",
        "# Membaca tanggal yang diinput oleh user\n",
        "bulan = input(\"masukkan nama bulan:\")\n",
        "tgl = int(input(\"masukkan tanggal dibulan tersebut:\"))\n",
        "\n",
        "# Proses menentukan nama musim\n",
        "if bulan == \"Januari\" or bulan ==\"Februari\":\n",
        "  musim = \"Winter\"\n",
        "elif bulan == \"Maret\":\n",
        "  if tgl < 20:\n",
        "    musim = \"Winter\"\n",
        "  else:\n",
        "    musim = \"Spring\"\n",
        "elif bulan ==\"April\" or bulan == \"Mei\":\n",
        "  musim = \"Spring\"\n",
        "elif bulan == \"Juni\":\n",
        "  if tgl < 21:\n",
        "    musim = \"Spring\"\n",
        "  else:\n",
        "    musim = \"Summer\"\n",
        "elif bulan ==\"Juli\" or bulan == \"Agustus\":\n",
        "  musim = \"Summer\"\n",
        "elif bulan == \"September\":\n",
        "   if tgl < 22:\n",
        "     musim = \"Summer\"\n",
        "   else:\n",
        "     musim = \"Fall\"\n",
        "elif bulan ==\"Oktober\" or bulan == \"November\":\n",
        "  musim = \"Fall\"\n",
        "elif bulan == \"Desember\":\n",
        "    if tgl < 21:\n",
        "      musim = \"Fall\"\n",
        "    else:\n",
        "      musim = \"Winter\"\n",
        "\n",
        "# Tampilkan hasil\n",
        "print(tgl, bulan, \"adalah dalam musim\", musim)"
      ],
      "execution_count": 4,
      "outputs": [
        {
          "name": "stdout",
          "output_type": "stream",
          "text": [
            "masukkan nama bulan:november\n",
            "masukkan tanggal dibulan tersebut:23\n"
          ]
        },
        {
          "output_type": "error",
          "ename": "NameError",
          "evalue": "name 'musim' is not defined",
          "traceback": [
            "\u001b[0;31m---------------------------------------------------------------------------\u001b[0m",
            "\u001b[0;31mNameError\u001b[0m                                 Traceback (most recent call last)",
            "\u001b[0;32m<ipython-input-4-4a28aefb0db9>\u001b[0m in \u001b[0;36m<cell line: 0>\u001b[0;34m()\u001b[0m\n\u001b[1;32m     35\u001b[0m \u001b[0;34m\u001b[0m\u001b[0m\n\u001b[1;32m     36\u001b[0m \u001b[0;31m# Tampilkan hasil\u001b[0m\u001b[0;34m\u001b[0m\u001b[0;34m\u001b[0m\u001b[0m\n\u001b[0;32m---> 37\u001b[0;31m \u001b[0mprint\u001b[0m\u001b[0;34m(\u001b[0m\u001b[0mtgl\u001b[0m\u001b[0;34m,\u001b[0m \u001b[0mbulan\u001b[0m\u001b[0;34m,\u001b[0m \u001b[0;34m\"adalah dalam musim\"\u001b[0m\u001b[0;34m,\u001b[0m \u001b[0mmusim\u001b[0m\u001b[0;34m)\u001b[0m\u001b[0;34m\u001b[0m\u001b[0;34m\u001b[0m\u001b[0m\n\u001b[0m",
            "\u001b[0;31mNameError\u001b[0m: name 'musim' is not defined"
          ]
        }
      ]
    },
    {
      "cell_type": "code",
      "metadata": {
        "id": "0wqWXuuJiw2N"
      },
      "source": [],
      "execution_count": null,
      "outputs": []
    }
  ]
}