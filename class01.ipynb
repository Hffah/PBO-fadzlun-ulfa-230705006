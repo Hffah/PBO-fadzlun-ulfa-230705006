{
  "nbformat": 4,
  "nbformat_minor": 0,
  "metadata": {
    "colab": {
      "provenance": [],
      "authorship_tag": "ABX9TyNwVALtJnz72cMySBLvOTws",
      "include_colab_link": true
    },
    "kernelspec": {
      "name": "python3",
      "display_name": "Python 3"
    },
    "language_info": {
      "name": "python"
    }
  },
  "cells": [
    {
      "cell_type": "markdown",
      "metadata": {
        "id": "view-in-github",
        "colab_type": "text"
      },
      "source": [
        "<a href=\"https://colab.research.google.com/github/Hffah/PBO-fadzlun-ulfa-230705006/blob/main/class01.ipynb\" target=\"_parent\"><img src=\"https://colab.research.google.com/assets/colab-badge.svg\" alt=\"Open In Colab\"/></a>"
      ]
    },
    {
      "cell_type": "code",
      "execution_count": 22,
      "metadata": {
        "id": "XMz528CJTavA",
        "colab": {
          "base_uri": "https://localhost:8080/"
        },
        "outputId": "8bee3c89-2b11-4e61-af16-9d7e4d5031ec"
      },
      "outputs": [
        {
          "output_type": "stream",
          "name": "stdout",
          "text": [
            "Tanaman: Mawar, Jenis: Bunga\n",
            "Cloning into 'Tugas1-PBO_fadzlun'...\n",
            "warning: You appear to have cloned an empty repository.\n",
            "/content/Tugas1-PBO_fadzlun/Tugas1-PBO_fadzlun/Tugas1-PBO_fadzlun\n",
            "On branch main\n",
            "\n",
            "No commits yet\n",
            "\n",
            "nothing to commit (create/copy files and use \"git add\" to track)\n"
          ]
        }
      ],
      "source": [
        "# Kelas Tanaman\n",
        "class Tanaman:\n",
        "    def __init__(self):\n",
        "        self.nama = \"\"\n",
        "        self.jenis = \"\"\n",
        "\n",
        "def main_tanaman():\n",
        "    obj = Tanaman()\n",
        "    obj.nama = \"Mawar\"\n",
        "    obj.jenis = \"Bunga\"\n",
        "\n",
        "    print(f\"Tanaman: {obj.nama}, Jenis: {obj.jenis}\")\n",
        "main_tanaman()\n",
        "\n",
        "\n",
        "\n",
        "\n",
        "\n",
        "!git clone https://github.com/Hffah/Tugas1-PBO_fadzlun.git\n",
        "\n",
        "\n",
        "\n",
        "\n",
        "%cd Tugas1-PBO_fadzlun\n",
        "\n",
        "!git status\n",
        "!ls\n",
        "\n",
        "\n",
        "\n"
      ]
    }
  ]
}